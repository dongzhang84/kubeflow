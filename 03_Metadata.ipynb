{
 "cells": [
  {
   "cell_type": "markdown",
   "metadata": {},
   "source": [
    "# Metadata\n",
    "### Tracking and managing metadata of machine learning workflows in Kubeflow"
   ]
  },
  {
   "cell_type": "markdown",
   "metadata": {},
   "source": [
    "\n",
    "The goal of the [Metadata](https://github.com/kubeflow/metadata) project is to help Kubeflow users understand and manage their machine learning workflows by tracking and managing the metadata of workflows.\n",
    "\n",
    "\n",
    "Metadata comes with three components. From Kubeflow v0.6, Metadata is installed by default.\n",
    "\n",
    "- UI\n",
    "- Backend Store\n",
    "- Python SDK\n"
   ]
  },
  {
   "cell_type": "markdown",
   "metadata": {},
   "source": [
    "## Core Concepts\n",
    "\n",
    "- _Run_ describes an execution of a machine learning workflow, which can be a pipeline or a notebook.\n",
    "- _Artifact_ describes derived data used or produced in a run.\n",
    "- _Execution_ describes an execution of a single step of a run with its running parameters.\n",
    "- _Workspace_ groups a set of runs and related artifacts and executions.\n"
   ]
  },
  {
   "cell_type": "markdown",
   "metadata": {},
   "source": [
    "### Install Python SDK"
   ]
  },
  {
   "cell_type": "code",
   "execution_count": 1,
   "metadata": {},
   "outputs": [
    {
     "name": "stdout",
     "output_type": "stream",
     "text": [
      "Collecting kfmd==0.1.8\n",
      "  Downloading https://files.pythonhosted.org/packages/cf/72/048a49042dacd93925f6f4253cb765aeddef34da4cbec05066dc1ac555f5/kfmd-0.1.8.tar.gz\n",
      "Building wheels for collected packages: kfmd\n",
      "  Building wheel for kfmd (setup.py) ... \u001b[?25ldone\n",
      "\u001b[?25h  Created wheel for kfmd: filename=kfmd-0.1.8-cp36-none-any.whl size=65921 sha256=c3429c40be2c2c72220ec0a6dd85c9ba1a0cc7ce64480fc02147f5d15eaf6935\n",
      "  Stored in directory: /home/jovyan/.cache/pip/wheels/3d/ef/17/5f5099e588c582d66506547e0bd28bd7071959137a88b110ca\n",
      "Successfully built kfmd\n",
      "Installing collected packages: kfmd\n",
      "Successfully installed kfmd-0.1.8\n",
      "\u001b[33mWARNING: You are using pip version 19.3.1; however, version 20.1 is available.\n",
      "You should consider upgrading via the 'pip install --upgrade pip' command.\u001b[0m\n",
      "Collecting pandas==1.0.1\n",
      "\u001b[?25l  Downloading https://files.pythonhosted.org/packages/08/ec/b5dd8cfb078380fb5ae9325771146bccd4e8cad2d3e4c72c7433010684eb/pandas-1.0.1-cp36-cp36m-manylinux1_x86_64.whl (10.1MB)\n",
      "\u001b[K     |████████████████████████████████| 10.1MB 8.7MB/s eta 0:00:01    |███████                         | 2.2MB 8.7MB/s eta 0:00:01█▎                   | 3.9MB 8.7MB/s eta 0:00:01\n",
      "\u001b[?25hRequirement already satisfied: pytz>=2017.2 in /usr/local/lib/python3.6/dist-packages (from pandas==1.0.1) (2019.3)\n",
      "Requirement already satisfied: python-dateutil>=2.6.1 in /usr/local/lib/python3.6/dist-packages (from pandas==1.0.1) (2.8.1)\n",
      "Requirement already satisfied: numpy>=1.13.3 in /usr/local/lib/python3.6/dist-packages (from pandas==1.0.1) (1.18.1)\n",
      "Requirement already satisfied: six>=1.5 in /usr/local/lib/python3.6/dist-packages (from python-dateutil>=2.6.1->pandas==1.0.1) (1.13.0)\n",
      "Installing collected packages: pandas\n",
      "Successfully installed pandas-1.0.1\n",
      "\u001b[33mWARNING: You are using pip version 19.3.1; however, version 20.1 is available.\n",
      "You should consider upgrading via the 'pip install --upgrade pip' command.\u001b[0m\n"
     ]
    }
   ],
   "source": [
    "# To use the latest publish `kfmd` library, you can run:\n",
    "!pip install kfmd==0.1.8 --user\n",
    "\n",
    "# Install other packages used in the turorial:\n",
    "!pip install pandas==1.0.1 --user"
   ]
  },
  {
   "cell_type": "code",
   "execution_count": 2,
   "metadata": {
    "scrolled": false
   },
   "outputs": [
    {
     "name": "stdout",
     "output_type": "stream",
     "text": [
      "Package                  Version   \n",
      "------------------------ ----------\n",
      "absl-py                  0.9.0     \n",
      "argo-models              2.2.1a0   \n",
      "asn1crypto               0.24.0    \n",
      "astor                    0.8.1     \n",
      "attrs                    19.3.0    \n",
      "backcall                 0.1.0     \n",
      "bleach                   3.1.0     \n",
      "cachetools               4.0.0     \n",
      "certifi                  2019.11.28\n",
      "cffi                     1.14.0    \n",
      "chardet                  3.0.4     \n",
      "Click                    7.0       \n",
      "cloudpickle              1.1.1     \n",
      "cryptography             2.9.2     \n",
      "cycler                   0.10.0    \n",
      "decorator                4.4.1     \n",
      "defusedxml               0.6.0     \n",
      "Deprecated               1.2.9     \n",
      "docker                   4.1.0     \n",
      "entrypoints              0.3       \n",
      "enum34                   1.1.6     \n",
      "fairing                  0.5       \n",
      "future                   0.18.2    \n",
      "gast                     0.2.2     \n",
      "google-api-core          1.16.0    \n",
      "google-api-python-client 1.7.11    \n",
      "google-auth              1.10.0    \n",
      "google-auth-httplib2     0.0.3     \n",
      "google-auth-oauthlib     0.4.1     \n",
      "google-cloud-core        1.3.0     \n",
      "google-cloud-storage     1.25.0    \n",
      "google-pasta             0.1.8     \n",
      "google-resumable-media   0.5.0     \n",
      "googleapis-common-protos 1.51.0    \n",
      "grpcio                   1.26.0    \n",
      "h5py                     2.10.0    \n",
      "httplib2                 0.17.0    \n",
      "idna                     2.6       \n",
      "importlib-metadata       1.4.0     \n",
      "ipykernel                5.1.3     \n",
      "ipython                  7.11.1    \n",
      "ipython-genutils         0.2.0     \n",
      "ipywidgets               7.5.1     \n",
      "jedi                     0.15.2    \n",
      "Jinja2                   2.10.3    \n",
      "json5                    0.9.0     \n",
      "jsonschema               3.2.0     \n",
      "jupyter                  1.0.0     \n",
      "jupyter-client           5.3.4     \n",
      "jupyter-console          6.0.0     \n",
      "jupyter-core             4.6.1     \n",
      "jupyter-http-over-ws     0.0.7     \n",
      "jupyterlab               1.2.6     \n",
      "jupyterlab-server        1.0.6     \n",
      "Keras-Applications       1.0.8     \n",
      "Keras-Preprocessing      1.1.0     \n",
      "keyring                  10.6.0    \n",
      "keyrings.alt             3.0       \n",
      "kfmd                     0.1.8     \n",
      "kfp                      0.2.5     \n",
      "kfp-server-api           0.1.40    \n",
      "kiwisolver               1.1.0     \n",
      "kubernetes               10.0.0    \n",
      "Markdown                 3.1.1     \n",
      "MarkupSafe               1.1.1     \n",
      "matplotlib               3.1.2     \n",
      "mistune                  0.8.4     \n",
      "more-itertools           8.0.2     \n",
      "nbconvert                5.6.1     \n",
      "nbformat                 5.0.3     \n",
      "notebook                 6.0.2     \n",
      "numpy                    1.18.1    \n",
      "oauth2client             4.1.3     \n",
      "oauthlib                 3.1.0     \n",
      "opt-einsum               3.1.0     \n",
      "pandas                   1.0.1     \n",
      "pandocfilters            1.4.2     \n",
      "parso                    0.5.2     \n",
      "pexpect                  4.7.0     \n",
      "pickleshare              0.7.5     \n",
      "pip                      19.3.1    \n",
      "prometheus-client        0.7.1     \n",
      "prompt-toolkit           2.0.10    \n",
      "protobuf                 3.11.2    \n",
      "ptyprocess               0.6.0     \n",
      "pyasn1                   0.4.8     \n",
      "pyasn1-modules           0.2.8     \n",
      "pycparser                2.20      \n",
      "pycrypto                 2.6.1     \n",
      "Pygments                 2.5.2     \n",
      "pygobject                3.26.1    \n",
      "PyJWT                    1.7.1     \n",
      "pyparsing                2.4.6     \n",
      "pyrsistent               0.15.7    \n",
      "python-dateutil          2.8.1     \n",
      "pytz                     2019.3    \n",
      "pyxdg                    0.25      \n",
      "PyYAML                   5.3       \n",
      "pyzmq                    18.1.1    \n",
      "qtconsole                4.6.0     \n",
      "requests                 2.22.0    \n",
      "requests-oauthlib        1.3.0     \n",
      "requests-toolbelt        0.9.1     \n",
      "rsa                      4.0       \n",
      "scipy                    1.4.1     \n",
      "SecretStorage            2.3.1     \n",
      "Send2Trash               1.5.0     \n",
      "setuptools               44.0.0    \n",
      "six                      1.13.0    \n",
      "strip-hints              0.1.8     \n",
      "tabulate                 0.8.3     \n",
      "tensorboard              2.1.0     \n",
      "tensorflow               2.1.0     \n",
      "tensorflow-estimator     2.1.0     \n",
      "termcolor                1.1.0     \n",
      "terminado                0.8.3     \n",
      "testpath                 0.4.4     \n",
      "tornado                  5.1.1     \n",
      "traitlets                4.3.3     \n",
      "uritemplate              3.0.1     \n",
      "urllib3                  1.24.3    \n",
      "wcwidth                  0.1.8     \n",
      "webencodings             0.5.1     \n",
      "websocket-client         0.57.0    \n",
      "Werkzeug                 0.16.0    \n",
      "wheel                    0.30.0    \n",
      "widgetsnbextension       3.5.1     \n",
      "wrapt                    1.11.2    \n",
      "xgboost                  0.90      \n",
      "zipp                     0.6.0     \n",
      "\u001b[33mWARNING: You are using pip version 19.3.1; however, version 20.1 is available.\n",
      "You should consider upgrading via the 'pip install --upgrade pip' command.\u001b[0m\n"
     ]
    }
   ],
   "source": [
    "!pip list"
   ]
  },
  {
   "cell_type": "markdown",
   "metadata": {},
   "source": [
    "## Restart the kernel to pick up pip installed libraries"
   ]
  },
  {
   "cell_type": "code",
   "execution_count": null,
   "metadata": {},
   "outputs": [
    {
     "data": {
      "text/html": [
       "<script>Jupyter.notebook.kernel.restart()</script>"
      ],
      "text/plain": [
       "<IPython.core.display.HTML object>"
      ]
     },
     "execution_count": 3,
     "metadata": {},
     "output_type": "execute_result"
    }
   ],
   "source": [
    "from IPython.core.display import HTML\n",
    "HTML(\"<script>Jupyter.notebook.kernel.restart()</script>\")"
   ]
  },
  {
   "cell_type": "code",
   "execution_count": 1,
   "metadata": {},
   "outputs": [],
   "source": [
    "# Verify Installation\n",
    "from kfmd import metadata\n",
    "import pandas\n",
    "from datetime import datetime"
   ]
  },
  {
   "cell_type": "markdown",
   "metadata": {},
   "source": [
    "## Basic Python SDK Usage\n",
    "\n",
    "Please follow commands here to understand basic usage of metadata SDK"
   ]
  },
  {
   "cell_type": "markdown",
   "metadata": {},
   "source": [
    "### Create a workspace"
   ]
  },
  {
   "cell_type": "code",
   "execution_count": 2,
   "metadata": {},
   "outputs": [],
   "source": [
    "test_workspace = metadata.Workspace(\n",
    "    # Connect to metadata-service in namesapce kubeflow in k8s cluster.\n",
    "    backend_url_prefix=\"metadata-service.kubeflow:8080\",\n",
    "    name=\"test_workspace\",\n",
    "    description=\"a workspace for testing\",\n",
    "    labels={\"foo\": \"bar\"})"
   ]
  },
  {
   "cell_type": "markdown",
   "metadata": {},
   "source": [
    "### Create a run in a workspace"
   ]
  },
  {
   "cell_type": "code",
   "execution_count": 3,
   "metadata": {},
   "outputs": [],
   "source": [
    "test_run = metadata.Run(\n",
    "    workspace=test_workspace,\n",
    "    name=\"run-\" + datetime.utcnow().isoformat(\"T\") ,\n",
    "    description=\"a run in workspace\",\n",
    ")"
   ]
  },
  {
   "cell_type": "markdown",
   "metadata": {},
   "source": [
    "### Create an execution in a run"
   ]
  },
  {
   "cell_type": "code",
   "execution_count": 4,
   "metadata": {},
   "outputs": [
    {
     "name": "stdout",
     "output_type": "stream",
     "text": [
      "An execution is create with id 1\n"
     ]
    }
   ],
   "source": [
    "exec = metadata.Execution(\n",
    "    name = \"execution\" + datetime.utcnow().isoformat(\"T\") ,\n",
    "    workspace=test_workspace,\n",
    "    run=test_run,\n",
    "    description=\"execution example\",\n",
    ")\n",
    "print(\"An execution is create with id %s\" % exec.id)"
   ]
  },
  {
   "cell_type": "markdown",
   "metadata": {},
   "source": [
    "### Log a data set"
   ]
  },
  {
   "cell_type": "code",
   "execution_count": 5,
   "metadata": {},
   "outputs": [
    {
     "name": "stdout",
     "output_type": "stream",
     "text": [
      "data set id is 1\n"
     ]
    }
   ],
   "source": [
    "data_set = exec.log_input(\n",
    "        metadata.DataSet(\n",
    "            description=\"Training datasets\",\n",
    "            name=\"imagenet\",\n",
    "            owner=\"someone@kubeflow.org\",\n",
    "            uri=\"s3://path/to/dataset\",\n",
    "            version=\"v1.0.0\",\n",
    "            query=\"SELECT * FROM mytable\"))\n",
    "assert data_set.id\n",
    "print(\"data set id is %s\" % data_set.id)"
   ]
  },
  {
   "cell_type": "markdown",
   "metadata": {},
   "source": [
    "### Log a model"
   ]
  },
  {
   "cell_type": "code",
   "execution_count": 6,
   "metadata": {},
   "outputs": [
    {
     "name": "stdout",
     "output_type": "stream",
     "text": [
      "model id is 2\n"
     ]
    }
   ],
   "source": [
    "model = exec.log_output(\n",
    "    metadata.Model(\n",
    "            name=\"MNIST\",\n",
    "            description=\"model to recognize handwritten digits\",\n",
    "            owner=\"someone@kubeflow.org\",\n",
    "            uri=\"s3://my-bucket/mnist\",\n",
    "            model_type=\"neural network\",\n",
    "            training_framework={\n",
    "                \"name\": \"tensorflow\",\n",
    "                \"version\": \"v1.0\"\n",
    "            },\n",
    "            hyperparameters={\n",
    "                \"learning_rate\": 0.5,\n",
    "                \"layers\": [10, 3, 1],\n",
    "                \"early_stop\": True\n",
    "            },\n",
    "            version=\"v0.0.1\",\n",
    "            labels={\"mylabel\": \"l1\"}))\n",
    "assert model.id\n",
    "print(\"model id is %s\" % model.id)"
   ]
  },
  {
   "cell_type": "markdown",
   "metadata": {},
   "source": [
    "### Log an evaluation(metrics) of a model"
   ]
  },
  {
   "cell_type": "code",
   "execution_count": 7,
   "metadata": {},
   "outputs": [
    {
     "name": "stdout",
     "output_type": "stream",
     "text": [
      "metrics id is 2\n"
     ]
    }
   ],
   "source": [
    "metrics = exec.log_output(\n",
    "    metadata.Metrics(\n",
    "            name=\"MNIST-evaluation\",\n",
    "            description=\"validating the MNIST model to recognize handwritten digits\",\n",
    "            owner=\"someone@kubeflow.org\",\n",
    "            uri=\"s3://my-bucket/mnist-eval.csv\",\n",
    "            data_set_id=data_set.id,\n",
    "            model_id=model.id,\n",
    "            metrics_type=metadata.Metrics.VALIDATION,\n",
    "            values={\"accuracy\": 0.95},\n",
    "            labels={\"mylabel\": \"l1\"}))\n",
    "assert metrics.id\n",
    "print(\"metrics id is %s\" % model.id)"
   ]
  },
  {
   "cell_type": "markdown",
   "metadata": {},
   "source": [
    "### List all models in the workspace"
   ]
  },
  {
   "cell_type": "code",
   "execution_count": 8,
   "metadata": {},
   "outputs": [
    {
     "data": {
      "text/html": [
       "<div>\n",
       "<style scoped>\n",
       "    .dataframe tbody tr th:only-of-type {\n",
       "        vertical-align: middle;\n",
       "    }\n",
       "\n",
       "    .dataframe tbody tr th {\n",
       "        vertical-align: top;\n",
       "    }\n",
       "\n",
       "    .dataframe thead th {\n",
       "        text-align: right;\n",
       "    }\n",
       "</style>\n",
       "<table border=\"1\" class=\"dataframe\">\n",
       "  <thead>\n",
       "    <tr style=\"text-align: right;\">\n",
       "      <th></th>\n",
       "      <th>id</th>\n",
       "      <th>workspace</th>\n",
       "      <th>run</th>\n",
       "      <th>create_time</th>\n",
       "      <th>description</th>\n",
       "      <th>model_type</th>\n",
       "      <th>name</th>\n",
       "      <th>owner</th>\n",
       "      <th>version</th>\n",
       "      <th>uri</th>\n",
       "      <th>training_framework</th>\n",
       "      <th>hyperparameters</th>\n",
       "      <th>labels</th>\n",
       "    </tr>\n",
       "  </thead>\n",
       "  <tbody>\n",
       "    <tr>\n",
       "      <th>0</th>\n",
       "      <td>2</td>\n",
       "      <td>test_workspace</td>\n",
       "      <td>run-2020-05-09T01:56:42.838148</td>\n",
       "      <td>2020-05-09T01:56:50.320225Z</td>\n",
       "      <td>model to recognize handwritten digits</td>\n",
       "      <td>neural network</td>\n",
       "      <td>MNIST</td>\n",
       "      <td>someone@kubeflow.org</td>\n",
       "      <td>v0.0.1</td>\n",
       "      <td>s3://my-bucket/mnist</td>\n",
       "      <td>{'name': 'tensorflow', 'version': 'v1.0'}</td>\n",
       "      <td>{'learning_rate': 0.5, 'layers': [10, 3, 1], '...</td>\n",
       "      <td>{'mylabel': 'l1'}</td>\n",
       "    </tr>\n",
       "  </tbody>\n",
       "</table>\n",
       "</div>"
      ],
      "text/plain": [
       "  id       workspace                             run  \\\n",
       "0  2  test_workspace  run-2020-05-09T01:56:42.838148   \n",
       "\n",
       "                   create_time                            description  \\\n",
       "0  2020-05-09T01:56:50.320225Z  model to recognize handwritten digits   \n",
       "\n",
       "       model_type   name                 owner version                   uri  \\\n",
       "0  neural network  MNIST  someone@kubeflow.org  v0.0.1  s3://my-bucket/mnist   \n",
       "\n",
       "                          training_framework  \\\n",
       "0  {'name': 'tensorflow', 'version': 'v1.0'}   \n",
       "\n",
       "                                     hyperparameters             labels  \n",
       "0  {'learning_rate': 0.5, 'layers': [10, 3, 1], '...  {'mylabel': 'l1'}  "
      ]
     },
     "execution_count": 8,
     "metadata": {},
     "output_type": "execute_result"
    }
   ],
   "source": [
    "pandas.DataFrame.from_dict(test_workspace.list(metadata.Model.ARTIFACT_TYPE_NAME))"
   ]
  },
  {
   "cell_type": "markdown",
   "metadata": {},
   "source": [
    "### Basic Lineage Tracking"
   ]
  },
  {
   "cell_type": "code",
   "execution_count": 9,
   "metadata": {},
   "outputs": [
    {
     "name": "stdout",
     "output_type": "stream",
     "text": [
      "model id is 2\n",
      "\n",
      "\n",
      "All events related to this model:\n"
     ]
    },
    {
     "data": {
      "text/html": [
       "<div>\n",
       "<style scoped>\n",
       "    .dataframe tbody tr th:only-of-type {\n",
       "        vertical-align: middle;\n",
       "    }\n",
       "\n",
       "    .dataframe tbody tr th {\n",
       "        vertical-align: top;\n",
       "    }\n",
       "\n",
       "    .dataframe thead th {\n",
       "        text-align: right;\n",
       "    }\n",
       "</style>\n",
       "<table border=\"1\" class=\"dataframe\">\n",
       "  <thead>\n",
       "    <tr style=\"text-align: right;\">\n",
       "      <th></th>\n",
       "      <th>artifact_id</th>\n",
       "      <th>execution_id</th>\n",
       "      <th>path</th>\n",
       "      <th>type</th>\n",
       "      <th>milliseconds_since_epoch</th>\n",
       "    </tr>\n",
       "  </thead>\n",
       "  <tbody>\n",
       "    <tr>\n",
       "      <th>0</th>\n",
       "      <td>1</td>\n",
       "      <td>1</td>\n",
       "      <td>None</td>\n",
       "      <td>INPUT</td>\n",
       "      <td>1588989407576</td>\n",
       "    </tr>\n",
       "    <tr>\n",
       "      <th>1</th>\n",
       "      <td>2</td>\n",
       "      <td>1</td>\n",
       "      <td>None</td>\n",
       "      <td>OUTPUT</td>\n",
       "      <td>1588989410341</td>\n",
       "    </tr>\n",
       "    <tr>\n",
       "      <th>2</th>\n",
       "      <td>3</td>\n",
       "      <td>1</td>\n",
       "      <td>None</td>\n",
       "      <td>OUTPUT</td>\n",
       "      <td>1588989412415</td>\n",
       "    </tr>\n",
       "  </tbody>\n",
       "</table>\n",
       "</div>"
      ],
      "text/plain": [
       "  artifact_id execution_id  path    type milliseconds_since_epoch\n",
       "0           1            1  None   INPUT            1588989407576\n",
       "1           2            1  None  OUTPUT            1588989410341\n",
       "2           3            1  None  OUTPUT            1588989412415"
      ]
     },
     "execution_count": 9,
     "metadata": {},
     "output_type": "execute_result"
    }
   ],
   "source": [
    "print(\"model id is %s\\n\" % model.id)\n",
    "    \n",
    "# Find the execution that produces this model.\n",
    "output_events = test_workspace.client.list_events2(model.id).events\n",
    "assert len(output_events) == 1\n",
    "execution_id = output_events[0].execution_id\n",
    "\n",
    "# Find all events related to that execution.\n",
    "all_events = test_workspace.client.list_events(execution_id).events\n",
    "assert len(all_events) == 3\n",
    "\n",
    "print(\"\\nAll events related to this model:\")\n",
    "pandas.DataFrame.from_dict([e.to_dict() for e in all_events])"
   ]
  },
  {
   "cell_type": "markdown",
   "metadata": {},
   "source": [
    "## Real world example"
   ]
  },
  {
   "cell_type": "code",
   "execution_count": 10,
   "metadata": {},
   "outputs": [],
   "source": [
    "import tensorflow as tf\n",
    "from tensorflow import keras\n",
    "\n",
    "# Helper libraries\n",
    "import numpy as np\n",
    "import os\n",
    "import subprocess\n",
    "import argparse\n",
    "import time\n",
    "\n",
    "from kfmd import metadata\n",
    "\n",
    "\n",
    "# Reduce spam logs from s3 client\n",
    "os.environ['TF_CPP_MIN_LOG_LEVEL']='3'\n",
    "\n",
    "def preprocessing(mnist_execution):\n",
    "  fashion_mnist = keras.datasets.fashion_mnist\n",
    "  (train_images, train_labels), (test_images, test_labels) = fashion_mnist.load_data()\n",
    "\n",
    "  # scale the values to 0.0 to 1.0\n",
    "  train_images = train_images / 255.0\n",
    "  test_images = test_images / 255.0\n",
    "\n",
    "  # reshape for feeding into the model\n",
    "  train_images = train_images.reshape(train_images.shape[0], 28, 28, 1)\n",
    "  test_images = test_images.reshape(test_images.shape[0], 28, 28, 1)\n",
    "\n",
    "  class_names = ['T-shirt/top', 'Trouser', 'Pullover', 'Dress', 'Coat',\n",
    "                'Sandal', 'Shirt', 'Sneaker', 'Bag', 'Ankle boot']\n",
    "\n",
    "  print('\\ntrain_images.shape: {}, of {}'.format(train_images.shape, train_images.dtype))\n",
    "  print('test_images.shape: {}, of {}'.format(test_images.shape, test_images.dtype))\n",
    "\n",
    "  return train_images, train_labels, test_images, test_labels\n",
    "\n",
    "def train(train_images, train_labels, epochs, model_summary_path=None, mnist_execution=None):\n",
    "  if model_summary_path:\n",
    "    logdir=model_summary_path # + datetime.now().strftime(\"%Y%m%d-%H%M%S\")\n",
    "    tensorboard_callback = keras.callbacks.TensorBoard(log_dir=logdir)\n",
    "\n",
    "  model = keras.Sequential([\n",
    "    keras.layers.Conv2D(input_shape=(28,28,1), filters=8, kernel_size=3,\n",
    "                        strides=2, activation='relu', name='Conv1'),\n",
    "    keras.layers.Flatten(),\n",
    "    keras.layers.Dense(10, activation=tf.nn.softmax, name='Softmax')\n",
    "  ])\n",
    "  model.summary()\n",
    "\n",
    "  model.compile(optimizer='adam',\n",
    "                loss='sparse_categorical_crossentropy',\n",
    "                metrics=['accuracy'])\n",
    "\n",
    "def export_model(model, model_export_path):\n",
    "  version = 1\n",
    "  export_path = os.path.join(model_export_path, str(version))\n",
    "\n",
    "  tf.saved_model.simple_save(\n",
    "    keras.backend.get_session(),\n",
    "    export_path,\n",
    "    inputs={'input_image': model.input},\n",
    "    outputs={t.name:t for t in model.outputs})\n",
    "\n",
    "  print('\\nSaved model: {}'.format(export_path))\n",
    "\n",
    "\n",
    "def main(model_export_path=None, model_summary_path=None, epochs=5):\n",
    "  \"\"\"Fashion MNIST Tensorflow Example.\n",
    "    Args:\n",
    "      model_summary_path: Model export path.\n",
    "      model_summary_path: Model summry files for Tensorboard visualization\n",
    "      epochs: Training epochs. \n",
    "    \"\"\"\n",
    "\n",
    "  # Setting up metadata tracking\n",
    "  mnist_workspace = metadata.Workspace(\n",
    "    # Connect to metadata-service in namesapce kubeflow in k8s cluster.\n",
    "    backend_url_prefix=\"metadata-service.kubeflow:8080\",\n",
    "    name=\"mnist\",\n",
    "    description=\"Mnist image classification\",\n",
    "    labels={\"env\": \"develop\"})\n",
    "\n",
    "  mnist_run = metadata.Run(\n",
    "    workspace=mnist_workspace,\n",
    "    name=\"run-\" + datetime.utcnow().isoformat(\"T\") ,\n",
    "    description=\"a run in mnist workspace\",\n",
    "  )\n",
    "\n",
    "  mnist_execution = metadata.Execution(\n",
    "    name = \"execution\" + datetime.utcnow().isoformat(\"T\") ,\n",
    "    workspace=mnist_workspace,\n",
    "    run=mnist_run,\n",
    "    description=\"execution example in mnist run\",\n",
    "  )\n",
    "\n",
    "  start_time = time.time()\n",
    "  train_images, train_labels, test_images, test_labels = preprocessing(mnist_execution)\n",
    "  model = train(train_images, train_labels, epochs, model_summary_path, mnist_execution)\n",
    "\n",
    "  dataset = mnist_execution.log_input(\n",
    "      metadata.DataSet(\n",
    "            description=\"MNIST Training datasets\",\n",
    "            name=\"mnist\",\n",
    "            owner=\"someone@kubeflow.org\",\n",
    "            uri=\"s3://path/to/dataset/mnist\",\n",
    "            version=\"v1.0.0\",\n",
    "            query=\"SELECT * FROM mytable\"))\n",
    "  print(\"data set id is %s\" % dataset.id)\n",
    "\n",
    "  if model_export_path:\n",
    "    export_model(model, model_export_path)\n",
    "\n",
    "  metadata_model = mnist_execution.log_output(\n",
    "      metadata.Model(\n",
    "        name=\"MNIST\",\n",
    "        description=\"model to recognize handwritten digits\",\n",
    "        owner=\"someone@kubeflow.org\",\n",
    "        uri=model_export_path,\n",
    "        model_type=\"neural network\",\n",
    "        training_framework={\n",
    "            \"name\": \"tensorflow\",\n",
    "            \"version\": \"v2.0\"\n",
    "        },\n",
    "        hyperparameters={\n",
    "            \"learning_rate\": 0.5,\n",
    "            \"layers\": [10, 3, 1],\n",
    "            \"early_stop\": True\n",
    "        },\n",
    "        version=\"v0.0.1\",\n",
    "        labels={\"mylabel\": \"l1\"}))\n",
    "  print(\"model id is %s\" % metadata_model.id)\n",
    "\n",
    "  metrics = mnist_execution.log_output(\n",
    "    metadata.Metrics(\n",
    "            name=\"MNIST-evaluation\",\n",
    "            description=\"validating the MNIST model to recognize handwritten digits\",\n",
    "            owner=\"someone@kubeflow.org\",\n",
    "            uri=\"s3://my-bucket/mnist-eval.csv\",\n",
    "            data_set_id=dataset.id,\n",
    "            model_id=metadata_model.id,\n",
    "            metrics_type=metadata.Metrics.VALIDATION,\n",
    "            values={\"accuracy\": 0.95},\n",
    "            labels={\"mylabel\": \"l1\"}))\n",
    "\n",
    "  # Measure running time\n",
    "  duration_in_seconds = time.time() - start_time\n",
    "  print(\"This model took\", duration_in_seconds, \"seconds to train and test.\")\n",
    "  mnist_execution.log_output(\n",
    "      metadata.Metrics(\n",
    "              name=\"MNIST-evaluation\",\n",
    "              description=\"validating the MNIST model to recognize handwritten digits\",\n",
    "              owner=\"someone@kubeflow.org\",\n",
    "              uri=\"s3://my-bucket/mnist-eval.csv\",\n",
    "              data_set_id=dataset.id,\n",
    "              model_id=metadata_model.id,\n",
    "              metrics_type=metadata.Metrics.VALIDATION,\n",
    "              values={\"time\": duration_in_seconds},\n",
    "              labels={\"mylabel\": \"l1\"}))"
   ]
  },
  {
   "cell_type": "code",
   "execution_count": 11,
   "metadata": {},
   "outputs": [
    {
     "name": "stdout",
     "output_type": "stream",
     "text": [
      "Downloading data from https://storage.googleapis.com/tensorflow/tf-keras-datasets/train-labels-idx1-ubyte.gz\n",
      "32768/29515 [=================================] - 0s 0us/step\n",
      "Downloading data from https://storage.googleapis.com/tensorflow/tf-keras-datasets/train-images-idx3-ubyte.gz\n",
      "26427392/26421880 [==============================] - 1s 0us/step\n",
      "Downloading data from https://storage.googleapis.com/tensorflow/tf-keras-datasets/t10k-labels-idx1-ubyte.gz\n",
      "8192/5148 [===============================================] - 0s 0us/step\n",
      "Downloading data from https://storage.googleapis.com/tensorflow/tf-keras-datasets/t10k-images-idx3-ubyte.gz\n",
      "4423680/4422102 [==============================] - 0s 0us/step\n",
      "\n",
      "train_images.shape: (60000, 28, 28, 1), of float64\n",
      "test_images.shape: (10000, 28, 28, 1), of float64\n",
      "Model: \"sequential\"\n",
      "_________________________________________________________________\n",
      "Layer (type)                 Output Shape              Param #   \n",
      "=================================================================\n",
      "Conv1 (Conv2D)               (None, 13, 13, 8)         80        \n",
      "_________________________________________________________________\n",
      "flatten (Flatten)            (None, 1352)              0         \n",
      "_________________________________________________________________\n",
      "Softmax (Dense)              (None, 10)                13530     \n",
      "=================================================================\n",
      "Total params: 13,610\n",
      "Trainable params: 13,610\n",
      "Non-trainable params: 0\n",
      "_________________________________________________________________\n",
      "data set id is 4\n",
      "model id is 5\n",
      "This model took 3.632176160812378 seconds to train and test.\n"
     ]
    }
   ],
   "source": [
    "main()"
   ]
  },
  {
   "cell_type": "markdown",
   "metadata": {},
   "source": [
    "You can go to central dashboard -> Artifact Store to check details.\n",
    "![artifact-store](img/artifact_store.jpg)\n",
    "\n",
    "You can click name and check details.\n",
    "![artifact-mnist](img/artifacts_mnist.jpg)"
   ]
  },
  {
   "cell_type": "code",
   "execution_count": null,
   "metadata": {},
   "outputs": [],
   "source": []
  }
 ],
 "metadata": {
  "kernelspec": {
   "display_name": "Python 3",
   "language": "python",
   "name": "python3"
  },
  "language_info": {
   "codemirror_mode": {
    "name": "ipython",
    "version": 3
   },
   "file_extension": ".py",
   "mimetype": "text/x-python",
   "name": "python",
   "nbconvert_exporter": "python",
   "pygments_lexer": "ipython3",
   "version": "3.6.9"
  }
 },
 "nbformat": 4,
 "nbformat_minor": 2
}
