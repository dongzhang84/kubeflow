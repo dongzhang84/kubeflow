{
 "cells": [
  {
   "cell_type": "markdown",
   "metadata": {},
   "source": [
    "## Introduction to the Pipelines SDK"
   ]
  },
  {
   "cell_type": "markdown",
   "metadata": {},
   "source": [
    "The [Kubeflow Pipelines SDK](https://github.com/kubeflow/pipelines/tree/master/sdk) provides a set of Python packages that you can use to specify and run your machine learning (ML) workflows. A pipeline is a description of an ML workflow, including all of the components that make up the steps in the workflow and how the components interact with each other.\n"
   ]
  },
  {
   "cell_type": "markdown",
   "metadata": {},
   "source": [
    "Kubeflow website has a very detail expaination of kubeflow components, please go to [Introduction to the Pipelines SDK](https://www.kubeflow.org/docs/pipelines/sdk/sdk-overview/) for details"
   ]
  },
  {
   "cell_type": "markdown",
   "metadata": {},
   "source": [
    "## Install the Kubeflow Pipelines SDK"
   ]
  },
  {
   "cell_type": "markdown",
   "metadata": {},
   "source": [
    "This guide tells you how to install the [Kubeflow Pipelines SDK](https://github.com/kubeflow/pipelines/tree/master/sdk) which you can use to build machine learning pipelines. You can use the SDK to execute your pipeline, or alternatively you can upload the pipeline to the Kubeflow Pipelines UI for execution.\n",
    "\n",
    "All of the SDK’s classes and methods are described in the auto-generated [SDK reference docs](https://kubeflow-pipelines.readthedocs.io/en/latest/).\n"
   ]
  },
  {
   "cell_type": "markdown",
   "metadata": {},
   "source": [
    "Run the following command to install the Kubeflow Pipelines SDK\n"
   ]
  },
  {
   "cell_type": "code",
   "execution_count": 1,
   "metadata": {
    "scrolled": false
   },
   "outputs": [
    {
     "name": "stdout",
     "output_type": "stream",
     "text": [
      "Collecting kfp==0.2.5\n",
      "\u001b[?25l  Downloading https://files.pythonhosted.org/packages/cc/ad/91b47012c84771383c85d0b8bac0364809385bd8ee4f8f1fe0b61d405c62/kfp-0.2.5.tar.gz (116kB)\n",
      "\u001b[K     |████████████████████████████████| 122kB 3.7MB/s eta 0:00:01\n",
      "\u001b[?25hCollecting urllib3<1.25,>=1.15\n",
      "\u001b[?25l  Downloading https://files.pythonhosted.org/packages/01/11/525b02e4acc0c747de8b6ccdab376331597c569c42ea66ab0a1dbd36eca2/urllib3-1.24.3-py2.py3-none-any.whl (118kB)\n",
      "\u001b[K     |████████████████████████████████| 122kB 16.1MB/s eta 0:00:01\n",
      "\u001b[?25hRequirement already satisfied, skipping upgrade: six>=1.10 in /usr/local/lib/python3.6/dist-packages (from kfp==0.2.5) (1.13.0)\n",
      "Requirement already satisfied, skipping upgrade: certifi in /usr/local/lib/python3.6/dist-packages (from kfp==0.2.5) (2019.11.28)\n",
      "Requirement already satisfied, skipping upgrade: python-dateutil in /usr/local/lib/python3.6/dist-packages (from kfp==0.2.5) (2.8.1)\n",
      "Requirement already satisfied, skipping upgrade: PyYAML in /usr/local/lib/python3.6/dist-packages (from kfp==0.2.5) (5.3)\n",
      "Requirement already satisfied, skipping upgrade: google-cloud-storage>=1.13.0 in /usr/local/lib/python3.6/dist-packages (from kfp==0.2.5) (1.25.0)\n",
      "Collecting kubernetes<=10.0.0,>=8.0.0\n",
      "\u001b[?25l  Downloading https://files.pythonhosted.org/packages/2a/09/365f4ad63f71c698c76edb3e666852b87a751ee4b6d23222b09952557d17/kubernetes-10.0.0-py2.py3-none-any.whl (1.5MB)\n",
      "\u001b[K     |████████████████████████████████| 1.5MB 22.0MB/s eta 0:00:01\n",
      "\u001b[?25hCollecting PyJWT>=1.6.4\n",
      "  Downloading https://files.pythonhosted.org/packages/87/8b/6a9f14b5f781697e51259d81657e6048fd31a113229cf346880bb7545565/PyJWT-1.7.1-py2.py3-none-any.whl\n",
      "Collecting cryptography>=2.4.2\n",
      "\u001b[?25l  Downloading https://files.pythonhosted.org/packages/3c/04/686efee2dcdd25aecf357992e7d9362f443eb182ecd623f882bc9f7a6bba/cryptography-2.9.2-cp35-abi3-manylinux2010_x86_64.whl (2.7MB)\n",
      "\u001b[K     |████████████████████████████████| 2.7MB 41.4MB/s eta 0:00:01\n",
      "\u001b[?25hRequirement already satisfied, skipping upgrade: google-auth>=1.6.1 in /usr/local/lib/python3.6/dist-packages (from kfp==0.2.5) (1.10.0)\n",
      "Collecting requests_toolbelt>=0.8.0\n",
      "\u001b[?25l  Downloading https://files.pythonhosted.org/packages/60/ef/7681134338fc097acef8d9b2f8abe0458e4d87559c689a8c306d0957ece5/requests_toolbelt-0.9.1-py2.py3-none-any.whl (54kB)\n",
      "\u001b[K     |████████████████████████████████| 61kB 16.3MB/s eta 0:00:01\n",
      "\u001b[?25hCollecting cloudpickle==1.1.1\n",
      "  Downloading https://files.pythonhosted.org/packages/24/fb/4f92f8c0f40a0d728b4f3d5ec5ff84353e705d8ff5e3e447620ea98b06bd/cloudpickle-1.1.1-py2.py3-none-any.whl\n",
      "Collecting kfp-server-api<=0.1.40,>=0.1.18\n",
      "  Downloading https://files.pythonhosted.org/packages/e2/a8/17b5357858272226ef76aab901846589a56c4a43ac93e66577f84c51e587/kfp-server-api-0.1.40.tar.gz\n",
      "Collecting argo-models==2.2.1a\n",
      "  Downloading https://files.pythonhosted.org/packages/62/53/a92df7c1c793edf2db99b14e428246e4b49b93499a5c9ed013e0aa2416f6/argo-models-2.2.1a0.tar.gz\n",
      "Requirement already satisfied, skipping upgrade: jsonschema>=3.0.1 in /usr/local/lib/python3.6/dist-packages (from kfp==0.2.5) (3.2.0)\n",
      "Collecting tabulate==0.8.3\n",
      "\u001b[?25l  Downloading https://files.pythonhosted.org/packages/c2/fd/202954b3f0eb896c53b7b6f07390851b1fd2ca84aa95880d7ae4f434c4ac/tabulate-0.8.3.tar.gz (46kB)\n",
      "\u001b[K     |████████████████████████████████| 51kB 7.5MB/s  eta 0:00:01\n",
      "\u001b[?25hCollecting click==7.0\n",
      "\u001b[?25l  Downloading https://files.pythonhosted.org/packages/fa/37/45185cb5abbc30d7257104c434fe0b07e5a195a6847506c074527aa599ec/Click-7.0-py2.py3-none-any.whl (81kB)\n",
      "\u001b[K     |████████████████████████████████| 81kB 14.7MB/s eta 0:00:01\n",
      "\u001b[?25hCollecting Deprecated\n",
      "  Downloading https://files.pythonhosted.org/packages/2b/ae/1f02f68eaa4aa878f184b2adc20a1923becb80a4da6c76efa33450011902/Deprecated-1.2.9-py2.py3-none-any.whl\n",
      "Collecting strip-hints\n",
      "  Downloading https://files.pythonhosted.org/packages/de/c1/5f6c5c27b11e23e37560bcc7bb4e49f2dad07c4f5d2cb81299f0be89186c/strip-hints-0.1.8.tar.gz\n",
      "Requirement already satisfied, skipping upgrade: google-cloud-core<2.0dev,>=1.2.0 in /usr/local/lib/python3.6/dist-packages (from google-cloud-storage>=1.13.0->kfp==0.2.5) (1.3.0)\n",
      "Requirement already satisfied, skipping upgrade: google-resumable-media<0.6dev,>=0.5.0 in /usr/local/lib/python3.6/dist-packages (from google-cloud-storage>=1.13.0->kfp==0.2.5) (0.5.0)\n",
      "Requirement already satisfied, skipping upgrade: setuptools>=21.0.0 in /usr/local/lib/python3.6/dist-packages (from kubernetes<=10.0.0,>=8.0.0->kfp==0.2.5) (44.0.0)\n",
      "Requirement already satisfied, skipping upgrade: websocket-client!=0.40.0,!=0.41.*,!=0.42.*,>=0.32.0 in /usr/local/lib/python3.6/dist-packages (from kubernetes<=10.0.0,>=8.0.0->kfp==0.2.5) (0.57.0)\n",
      "Requirement already satisfied, skipping upgrade: requests in /usr/local/lib/python3.6/dist-packages (from kubernetes<=10.0.0,>=8.0.0->kfp==0.2.5) (2.22.0)\n",
      "Requirement already satisfied, skipping upgrade: requests-oauthlib in /usr/local/lib/python3.6/dist-packages (from kubernetes<=10.0.0,>=8.0.0->kfp==0.2.5) (1.3.0)\n",
      "Collecting cffi!=1.11.3,>=1.8\n",
      "\u001b[?25l  Downloading https://files.pythonhosted.org/packages/f1/c7/72abda280893609e1ddfff90f8064568bd8bcb2c1770a9d5bb5edb2d1fea/cffi-1.14.0-cp36-cp36m-manylinux1_x86_64.whl (399kB)\n",
      "\u001b[K     |████████████████████████████████| 399kB 46.5MB/s eta 0:00:01\n",
      "\u001b[?25hRequirement already satisfied, skipping upgrade: cachetools<5.0,>=2.0.0 in /usr/local/lib/python3.6/dist-packages (from google-auth>=1.6.1->kfp==0.2.5) (4.0.0)\n",
      "Requirement already satisfied, skipping upgrade: pyasn1-modules>=0.2.1 in /usr/local/lib/python3.6/dist-packages (from google-auth>=1.6.1->kfp==0.2.5) (0.2.8)\n",
      "Requirement already satisfied, skipping upgrade: rsa<4.1,>=3.1.4 in /usr/local/lib/python3.6/dist-packages (from google-auth>=1.6.1->kfp==0.2.5) (4.0)\n",
      "Requirement already satisfied, skipping upgrade: attrs>=17.4.0 in /usr/local/lib/python3.6/dist-packages (from jsonschema>=3.0.1->kfp==0.2.5) (19.3.0)\n",
      "Requirement already satisfied, skipping upgrade: importlib-metadata; python_version < \"3.8\" in /usr/local/lib/python3.6/dist-packages (from jsonschema>=3.0.1->kfp==0.2.5) (1.4.0)\n",
      "Requirement already satisfied, skipping upgrade: pyrsistent>=0.14.0 in /usr/local/lib/python3.6/dist-packages (from jsonschema>=3.0.1->kfp==0.2.5) (0.15.7)\n",
      "Requirement already satisfied, skipping upgrade: wrapt<2,>=1.10 in /usr/local/lib/python3.6/dist-packages (from Deprecated->kfp==0.2.5) (1.11.2)\n",
      "Requirement already satisfied, skipping upgrade: wheel in /usr/lib/python3/dist-packages (from strip-hints->kfp==0.2.5) (0.30.0)\n",
      "Requirement already satisfied, skipping upgrade: google-api-core<2.0.0dev,>=1.16.0 in /usr/local/lib/python3.6/dist-packages (from google-cloud-core<2.0dev,>=1.2.0->google-cloud-storage>=1.13.0->kfp==0.2.5) (1.16.0)\n",
      "Requirement already satisfied, skipping upgrade: idna<2.9,>=2.5 in /usr/lib/python3/dist-packages (from requests->kubernetes<=10.0.0,>=8.0.0->kfp==0.2.5) (2.6)\n",
      "Requirement already satisfied, skipping upgrade: chardet<3.1.0,>=3.0.2 in /usr/local/lib/python3.6/dist-packages (from requests->kubernetes<=10.0.0,>=8.0.0->kfp==0.2.5) (3.0.4)\n",
      "Requirement already satisfied, skipping upgrade: oauthlib>=3.0.0 in /usr/local/lib/python3.6/dist-packages (from requests-oauthlib->kubernetes<=10.0.0,>=8.0.0->kfp==0.2.5) (3.1.0)\n",
      "Collecting pycparser\n",
      "\u001b[?25l  Downloading https://files.pythonhosted.org/packages/ae/e7/d9c3a176ca4b02024debf82342dab36efadfc5776f9c8db077e8f6e71821/pycparser-2.20-py2.py3-none-any.whl (112kB)\n",
      "\u001b[K     |████████████████████████████████| 112kB 11.5MB/s eta 0:00:01\n",
      "\u001b[?25hRequirement already satisfied, skipping upgrade: pyasn1<0.5.0,>=0.4.6 in /usr/local/lib/python3.6/dist-packages (from pyasn1-modules>=0.2.1->google-auth>=1.6.1->kfp==0.2.5) (0.4.8)\n",
      "Requirement already satisfied, skipping upgrade: zipp>=0.5 in /usr/local/lib/python3.6/dist-packages (from importlib-metadata; python_version < \"3.8\"->jsonschema>=3.0.1->kfp==0.2.5) (0.6.0)\n",
      "Requirement already satisfied, skipping upgrade: protobuf>=3.4.0 in /usr/local/lib/python3.6/dist-packages (from google-api-core<2.0.0dev,>=1.16.0->google-cloud-core<2.0dev,>=1.2.0->google-cloud-storage>=1.13.0->kfp==0.2.5) (3.11.2)\n",
      "Requirement already satisfied, skipping upgrade: googleapis-common-protos<2.0dev,>=1.6.0 in /usr/local/lib/python3.6/dist-packages (from google-api-core<2.0.0dev,>=1.16.0->google-cloud-core<2.0dev,>=1.2.0->google-cloud-storage>=1.13.0->kfp==0.2.5) (1.51.0)\n",
      "Requirement already satisfied, skipping upgrade: pytz in /usr/local/lib/python3.6/dist-packages (from google-api-core<2.0.0dev,>=1.16.0->google-cloud-core<2.0dev,>=1.2.0->google-cloud-storage>=1.13.0->kfp==0.2.5) (2019.3)\n",
      "Requirement already satisfied, skipping upgrade: more-itertools in /usr/local/lib/python3.6/dist-packages (from zipp>=0.5->importlib-metadata; python_version < \"3.8\"->jsonschema>=3.0.1->kfp==0.2.5) (8.0.2)\n",
      "Building wheels for collected packages: kfp, kfp-server-api, argo-models, tabulate, strip-hints\n",
      "  Building wheel for kfp (setup.py) ... \u001b[?25ldone\n",
      "\u001b[?25h  Created wheel for kfp: filename=kfp-0.2.5-cp36-none-any.whl size=161107 sha256=854722ecbf295d8e26f37e8298522e0e10fa7211d427849cc9ac2173e1ddfb6c\n",
      "  Stored in directory: /home/jovyan/.cache/pip/wheels/94/92/cd/5b30605e5596a41f87bd2958747b1a62d11446c3699b401998\n",
      "  Building wheel for kfp-server-api (setup.py) ... \u001b[?25ldone\n",
      "\u001b[?25h  Created wheel for kfp-server-api: filename=kfp_server_api-0.1.40-cp36-none-any.whl size=103306 sha256=35a7d3c5b88e4597fcf1729b879b8ba466b134530ed4dc554800d1fe5982649a\n",
      "  Stored in directory: /home/jovyan/.cache/pip/wheels/9d/aa/13/9954ed56199c04ed57001e1078f90144d1d2bae69a9d8521f5\n",
      "  Building wheel for argo-models (setup.py) ... \u001b[?25ldone\n",
      "\u001b[?25h  Created wheel for argo-models: filename=argo_models-2.2.1a0-cp36-none-any.whl size=58986 sha256=bef2a9b0ff936c3dc85b02b7d791f2d6915112b6e1aeaf380b8e0b1db9e79c4e\n",
      "  Stored in directory: /home/jovyan/.cache/pip/wheels/bd/5b/6b/20cdc06ddb10caa3a86f5804eb9a90122ae8de0bcf19a468d8\n",
      "  Building wheel for tabulate (setup.py) ... \u001b[?25ldone\n",
      "\u001b[?25h  Created wheel for tabulate: filename=tabulate-0.8.3-cp36-none-any.whl size=30630 sha256=0f56367035b60bd588a5ff33c3efe3c26258157b169f4d20269d689a860df1d6\n",
      "  Stored in directory: /home/jovyan/.cache/pip/wheels/2b/67/89/414471314a2d15de625d184d8be6d38a03ae1e983dbda91e84\n",
      "  Building wheel for strip-hints (setup.py) ... \u001b[?25ldone\n",
      "\u001b[?25h  Created wheel for strip-hints: filename=strip_hints-0.1.8-py2.py3-none-any.whl size=22741 sha256=e8ff47974842e23d6894322d8b99c3b69e59ff5a7d31beea78ff65e68271e30d\n",
      "  Stored in directory: /home/jovyan/.cache/pip/wheels/63/e6/37/b9a55c75197247b8244e6564d0117d949d647d2df3294f3a28\n",
      "Successfully built kfp kfp-server-api argo-models tabulate strip-hints\n",
      "Installing collected packages: urllib3, kubernetes, PyJWT, pycparser, cffi, cryptography, requests-toolbelt, cloudpickle, kfp-server-api, argo-models, tabulate, click, Deprecated, strip-hints, kfp\n",
      "\u001b[33m  WARNING: The script pyjwt is installed in '/home/jovyan/.local/bin' which is not on PATH.\n",
      "  Consider adding this directory to PATH or, if you prefer to suppress this warning, use --no-warn-script-location.\u001b[0m\n",
      "\u001b[33m  WARNING: The script tabulate is installed in '/home/jovyan/.local/bin' which is not on PATH.\n",
      "  Consider adding this directory to PATH or, if you prefer to suppress this warning, use --no-warn-script-location.\u001b[0m\n",
      "\u001b[33m  WARNING: The script strip-hints is installed in '/home/jovyan/.local/bin' which is not on PATH.\n",
      "  Consider adding this directory to PATH or, if you prefer to suppress this warning, use --no-warn-script-location.\u001b[0m\n",
      "\u001b[33m  WARNING: The scripts dsl-compile and kfp are installed in '/home/jovyan/.local/bin' which is not on PATH.\n",
      "  Consider adding this directory to PATH or, if you prefer to suppress this warning, use --no-warn-script-location.\u001b[0m\n",
      "Successfully installed Deprecated-1.2.9 PyJWT-1.7.1 argo-models-2.2.1a0 cffi-1.14.0 click-7.0 cloudpickle-1.1.1 cryptography-2.9.2 kfp-0.2.5 kfp-server-api-0.1.40 kubernetes-10.0.0 pycparser-2.20 requests-toolbelt-0.9.1 strip-hints-0.1.8 tabulate-0.8.3 urllib3-1.24.3\n",
      "\u001b[33mWARNING: You are using pip version 19.3.1; however, version 20.1 is available.\n",
      "You should consider upgrading via the 'pip install --upgrade pip' command.\u001b[0m\n"
     ]
    }
   ],
   "source": [
    "!pip install kfp==0.2.5 --upgrade --user"
   ]
  },
  {
   "cell_type": "markdown",
   "metadata": {},
   "source": [
    "## Restart the kernel to pick up pip installed libraries\n"
   ]
  },
  {
   "cell_type": "code",
   "execution_count": null,
   "metadata": {},
   "outputs": [
    {
     "data": {
      "text/html": [
       "<script>Jupyter.notebook.kernel.restart()</script>"
      ],
      "text/plain": [
       "<IPython.core.display.HTML object>"
      ]
     },
     "execution_count": 1,
     "metadata": {},
     "output_type": "execute_result"
    }
   ],
   "source": [
    "from IPython.core.display import HTML\n",
    "HTML(\"<script>Jupyter.notebook.kernel.restart()</script>\")"
   ]
  },
  {
   "cell_type": "markdown",
   "metadata": {},
   "source": [
    "After successful installation, the command `dsl-compile` should be available. You can use this command to verify it"
   ]
  },
  {
   "cell_type": "code",
   "execution_count": 1,
   "metadata": {},
   "outputs": [],
   "source": [
    "!which dsl-compile"
   ]
  },
  {
   "cell_type": "markdown",
   "metadata": {},
   "source": [
    "> Note: Please check official documentation to understand Pipline concetps before your move forward.  [Introduction to Pipelines SDK](https://www.kubeflow.org/docs/pipelines/sdk/sdk-overview/)"
   ]
  },
  {
   "cell_type": "markdown",
   "metadata": {},
   "source": [
    "\n"
   ]
  },
  {
   "cell_type": "markdown",
   "metadata": {},
   "source": [
    "## Build simple components and pipelines"
   ]
  },
  {
   "cell_type": "markdown",
   "metadata": {},
   "source": [
    "In this example, we want to calculate sum of three numbers. \n",
    "\n",
    "1. Let's assume we have a python image to use. It accepts two arguments and return sum of them. \n",
    "\n",
    "2. The sum of a and b will be used to calculate final result with sum of c and d. In total, we will have three arithmetical operators. Then we use another echo operator to print the result. "
   ]
  },
  {
   "cell_type": "markdown",
   "metadata": {},
   "source": [
    "### 1. Create a container image for each component\n",
    "\n",
    "Assumes that you have already created a program to perform the task required in a particular step of your ML workflow. For example, if the task is to train an ML model, then you must have a program that does the training,\n",
    "\n",
    "Your component can create `outputs` that the downstream components can use as `inputs`. This will be used to build Job Directed Acyclic Graph (DAG)\n"
   ]
  },
  {
   "cell_type": "markdown",
   "metadata": {},
   "source": [
    "> In this case, we will use a python base image to do the calculation. We skip buiding our own image."
   ]
  },
  {
   "cell_type": "markdown",
   "metadata": {},
   "source": [
    "### 2. Create a Python function to wrap your component\n",
    "\n",
    "Define a Python function to describe the interactions with the Docker container image that contains your pipeline component.\n",
    "\n",
    "Here, in order to simplify the process, we use simple way to calculate sum. Ideally, you need to build a new container image for your code change."
   ]
  },
  {
   "cell_type": "code",
   "execution_count": 2,
   "metadata": {},
   "outputs": [],
   "source": [
    "import kfp\n",
    "from kfp import dsl\n",
    "\n",
    "def add_two_numbers(a, b):\n",
    "    return dsl.ContainerOp(\n",
    "        name='calculate_sum',\n",
    "        image='python:3.6.8',\n",
    "        command=['python', '-c'],\n",
    "        arguments=['with open(\"/tmp/results.txt\", \"a\") as file: file.write(str({} + {}))'.format(a, b)],\n",
    "        file_outputs={\n",
    "            'data': '/tmp/results.txt',\n",
    "        }\n",
    "    )\n",
    "\n",
    "def echo_op(text):\n",
    "    return dsl.ContainerOp(\n",
    "        name='echo',\n",
    "        image='library/bash:4.4.23',\n",
    "        command=['sh', '-c'],\n",
    "        arguments=['echo \"Result: {}\"'.format(text)]\n",
    "    )"
   ]
  },
  {
   "cell_type": "markdown",
   "metadata": {},
   "source": [
    "### 3. Define your pipeline as a Python function\n",
    "\n",
    "Describe each pipeline as a Python function."
   ]
  },
  {
   "cell_type": "code",
   "execution_count": 3,
   "metadata": {},
   "outputs": [],
   "source": [
    "@dsl.pipeline(\n",
    "  name='Calcualte sum pipeline',\n",
    "  description='Calculate sum of numbers and prints the result.'\n",
    ")\n",
    "def calculate_sum(\n",
    "    a=7,\n",
    "    b=10,\n",
    "    c=4,\n",
    "    d=7\n",
    "):\n",
    "    \"\"\"A four-step pipeline with first two running in parallel.\"\"\"\n",
    "\n",
    "    sum1 = add_two_numbers(a, b)\n",
    "    sum2 = add_two_numbers(c, d)\n",
    "    sum = add_two_numbers(sum1.output, sum2.output)\n",
    "\n",
    "    echo_task = echo_op(sum.output)"
   ]
  },
  {
   "cell_type": "markdown",
   "metadata": {},
   "source": [
    "### 4. Compile the pipeline\n",
    "\n",
    "Compile the pipeline to generate a compressed YAML definition of the pipeline. The Kubeflow Pipelines service converts the static configuration into a set of Kubernetes resources for execution.\n",
    "\n",
    "There are two ways to compile the pipeline. Either use python lib `kfp.compiler.Compiler.compile ` or use binary `dsl-compile` command."
   ]
  },
  {
   "cell_type": "code",
   "execution_count": 4,
   "metadata": {},
   "outputs": [
    {
     "name": "stderr",
     "output_type": "stream",
     "text": [
      "/home/jovyan/.local/lib/python3.6/site-packages/kfp/components/_data_passing.py:168: UserWarning: Missing type name was inferred as \"Integer\" based on the value \"7\".\n",
      "  warnings.warn('Missing type name was inferred as \"{}\" based on the value \"{}\".'.format(type_name, str(value)))\n",
      "/home/jovyan/.local/lib/python3.6/site-packages/kfp/components/_data_passing.py:168: UserWarning: Missing type name was inferred as \"Integer\" based on the value \"10\".\n",
      "  warnings.warn('Missing type name was inferred as \"{}\" based on the value \"{}\".'.format(type_name, str(value)))\n",
      "/home/jovyan/.local/lib/python3.6/site-packages/kfp/components/_data_passing.py:168: UserWarning: Missing type name was inferred as \"Integer\" based on the value \"4\".\n",
      "  warnings.warn('Missing type name was inferred as \"{}\" based on the value \"{}\".'.format(type_name, str(value)))\n"
     ]
    }
   ],
   "source": [
    "kfp.compiler.Compiler().compile(calculate_sum, 'calculate-sum-pipeline.zip')"
   ]
  },
  {
   "cell_type": "code",
   "execution_count": null,
   "metadata": {},
   "outputs": [],
   "source": [
    "# If you have a python file, you can also try build pipeline using `dsl-compile` command.\n",
    "# dsl-compile --py [path/to/python/file] --output my-pipeline.zip"
   ]
  },
  {
   "cell_type": "markdown",
   "metadata": {},
   "source": [
    "### 5. Deploy pipeline\n",
    "\n",
    "There're two ways to deploy the pipeline. Either upload the generate `.tar.gz` file through the `Kubeflow Pipelines UI`, or use `Kubeflow Pipeline SDK` to deploy it.\n",
    "\n",
    "We will only show sdk usage here."
   ]
  },
  {
   "cell_type": "code",
   "execution_count": 5,
   "metadata": {},
   "outputs": [
    {
     "data": {
      "text/html": [
       "Experiment link <a href=\"/pipeline/#/experiments/details/96771dc6-1dd1-465d-9af3-5ca22d43f8be\" target=\"_blank\" >here</a>"
      ],
      "text/plain": [
       "<IPython.core.display.HTML object>"
      ]
     },
     "metadata": {},
     "output_type": "display_data"
    },
    {
     "data": {
      "text/html": [
       "Run link <a href=\"/pipeline/#/runs/details/a1fe4a7b-8860-4667-a3ba-c3da425daf1d\" target=\"_blank\" >here</a>"
      ],
      "text/plain": [
       "<IPython.core.display.HTML object>"
      ]
     },
     "metadata": {},
     "output_type": "display_data"
    }
   ],
   "source": [
    "client = kfp.Client()\n",
    "my_experiment = client.create_experiment(name='my_experiment')\n",
    "my_run = client.run_pipeline(my_experiment.id, 'calculate-sum-pipeline', \n",
    "  'calculate-sum-pipeline.zip')"
   ]
  },
  {
   "cell_type": "code",
   "execution_count": 6,
   "metadata": {},
   "outputs": [
    {
     "name": "stdout",
     "output_type": "stream",
     "text": [
      "Archive:  calculate-sum-pipeline.zip\r\n",
      "  inflating: pipeline.yaml           \r\n"
     ]
    }
   ],
   "source": [
    "!unzip calculate-sum-pipeline.zip"
   ]
  },
  {
   "cell_type": "code",
   "execution_count": 7,
   "metadata": {},
   "outputs": [
    {
     "name": "stdout",
     "output_type": "stream",
     "text": [
      "\"apiVersion\": |-\r\n",
      "  argoproj.io/v1alpha1\r\n",
      "\"kind\": |-\r\n",
      "  Workflow\r\n",
      "\"metadata\":\r\n",
      "  \"annotations\":\r\n",
      "    \"pipelines.kubeflow.org/pipeline_spec\": |-\r\n",
      "      {\"description\": \"Calculate sum of numbers and prints the result.\", \"inputs\": [{\"default\": \"7\", \"name\": \"a\", \"optional\": true}, {\"default\": \"10\", \"name\": \"b\", \"optional\": true}, {\"default\": \"4\", \"name\": \"c\", \"optional\": true}, {\"default\": \"7\", \"name\": \"d\", \"optional\": true}], \"name\": \"Calcualte sum pipeline\"}\r\n",
      "  \"generateName\": |-\r\n",
      "    calcualte-sum-pipeline-\r\n",
      "\"spec\":\r\n",
      "  \"arguments\":\r\n",
      "    \"parameters\":\r\n",
      "    - \"name\": |-\r\n",
      "        a\r\n",
      "      \"value\": |-\r\n",
      "        7\r\n",
      "    - \"name\": |-\r\n",
      "        b\r\n",
      "      \"value\": |-\r\n",
      "        10\r\n",
      "    - \"name\": |-\r\n",
      "        c\r\n",
      "      \"value\": |-\r\n",
      "        4\r\n",
      "    - \"name\": |-\r\n",
      "        d\r\n",
      "      \"value\": |-\r\n",
      "        7\r\n",
      "  \"entrypoint\": |-\r\n",
      "    calcualte-sum-pipeline\r\n",
      "  \"serviceAccountName\": |-\r\n",
      "    pipeline-runner\r\n",
      "  \"templates\":\r\n",
      "  - \"dag\":\r\n",
      "      \"tasks\":\r\n",
      "      - \"arguments\":\r\n",
      "          \"parameters\":\r\n",
      "          - \"name\": |-\r\n",
      "              a\r\n",
      "            \"value\": |-\r\n",
      "              {{inputs.parameters.a}}\r\n",
      "          - \"name\": |-\r\n",
      "              b\r\n",
      "            \"value\": |-\r\n",
      "              {{inputs.parameters.b}}\r\n",
      "        \"name\": |-\r\n",
      "          calculate-sum\r\n",
      "        \"template\": |-\r\n",
      "          calculate-sum\r\n",
      "      - \"arguments\":\r\n",
      "          \"parameters\":\r\n",
      "          - \"name\": |-\r\n",
      "              c\r\n",
      "            \"value\": |-\r\n",
      "              {{inputs.parameters.c}}\r\n",
      "          - \"name\": |-\r\n",
      "              d\r\n",
      "            \"value\": |-\r\n",
      "              {{inputs.parameters.d}}\r\n",
      "        \"name\": |-\r\n",
      "          calculate-sum-2\r\n",
      "        \"template\": |-\r\n",
      "          calculate-sum-2\r\n",
      "      - \"arguments\":\r\n",
      "          \"parameters\":\r\n",
      "          - \"name\": |-\r\n",
      "              calculate-sum-2-data\r\n",
      "            \"value\": |-\r\n",
      "              {{tasks.calculate-sum-2.outputs.parameters.calculate-sum-2-data}}\r\n",
      "          - \"name\": |-\r\n",
      "              calculate-sum-data\r\n",
      "            \"value\": |-\r\n",
      "              {{tasks.calculate-sum.outputs.parameters.calculate-sum-data}}\r\n",
      "        \"dependencies\":\r\n",
      "        - |-\r\n",
      "          calculate-sum\r\n",
      "        - |-\r\n",
      "          calculate-sum-2\r\n",
      "        \"name\": |-\r\n",
      "          calculate-sum-3\r\n",
      "        \"template\": |-\r\n",
      "          calculate-sum-3\r\n",
      "      - \"arguments\":\r\n",
      "          \"parameters\":\r\n",
      "          - \"name\": |-\r\n",
      "              calculate-sum-3-data\r\n",
      "            \"value\": |-\r\n",
      "              {{tasks.calculate-sum-3.outputs.parameters.calculate-sum-3-data}}\r\n",
      "        \"dependencies\":\r\n",
      "        - |-\r\n",
      "          calculate-sum-3\r\n",
      "        \"name\": |-\r\n",
      "          echo\r\n",
      "        \"template\": |-\r\n",
      "          echo\r\n",
      "    \"inputs\":\r\n",
      "      \"parameters\":\r\n",
      "      - \"name\": |-\r\n",
      "          a\r\n",
      "      - \"name\": |-\r\n",
      "          b\r\n",
      "      - \"name\": |-\r\n",
      "          c\r\n",
      "      - \"name\": |-\r\n",
      "          d\r\n",
      "    \"name\": |-\r\n",
      "      calcualte-sum-pipeline\r\n",
      "  - \"container\":\r\n",
      "      \"args\":\r\n",
      "      - |-\r\n",
      "        with open(\"/tmp/results.txt\", \"a\") as file: file.write(str({{inputs.parameters.a}} + {{inputs.parameters.b}}))\r\n",
      "      \"command\":\r\n",
      "      - |-\r\n",
      "        python\r\n",
      "      - |-\r\n",
      "        -c\r\n",
      "      \"image\": |-\r\n",
      "        python:3.6.8\r\n",
      "    \"inputs\":\r\n",
      "      \"parameters\":\r\n",
      "      - \"name\": |-\r\n",
      "          a\r\n",
      "      - \"name\": |-\r\n",
      "          b\r\n",
      "    \"name\": |-\r\n",
      "      calculate-sum\r\n",
      "    \"outputs\":\r\n",
      "      \"artifacts\":\r\n",
      "      - \"name\": |-\r\n",
      "          calculate-sum-data\r\n",
      "        \"path\": |-\r\n",
      "          /tmp/results.txt\r\n",
      "      \"parameters\":\r\n",
      "      - \"name\": |-\r\n",
      "          calculate-sum-data\r\n",
      "        \"valueFrom\":\r\n",
      "          \"path\": |-\r\n",
      "            /tmp/results.txt\r\n",
      "  - \"container\":\r\n",
      "      \"args\":\r\n",
      "      - |-\r\n",
      "        with open(\"/tmp/results.txt\", \"a\") as file: file.write(str({{inputs.parameters.c}} + {{inputs.parameters.d}}))\r\n",
      "      \"command\":\r\n",
      "      - |-\r\n",
      "        python\r\n",
      "      - |-\r\n",
      "        -c\r\n",
      "      \"image\": |-\r\n",
      "        python:3.6.8\r\n",
      "    \"inputs\":\r\n",
      "      \"parameters\":\r\n",
      "      - \"name\": |-\r\n",
      "          c\r\n",
      "      - \"name\": |-\r\n",
      "          d\r\n",
      "    \"name\": |-\r\n",
      "      calculate-sum-2\r\n",
      "    \"outputs\":\r\n",
      "      \"artifacts\":\r\n",
      "      - \"name\": |-\r\n",
      "          calculate-sum-2-data\r\n",
      "        \"path\": |-\r\n",
      "          /tmp/results.txt\r\n",
      "      \"parameters\":\r\n",
      "      - \"name\": |-\r\n",
      "          calculate-sum-2-data\r\n",
      "        \"valueFrom\":\r\n",
      "          \"path\": |-\r\n",
      "            /tmp/results.txt\r\n",
      "  - \"container\":\r\n",
      "      \"args\":\r\n",
      "      - |-\r\n",
      "        with open(\"/tmp/results.txt\", \"a\") as file: file.write(str({{inputs.parameters.calculate-sum-data}} + {{inputs.parameters.calculate-sum-2-data}}))\r\n",
      "      \"command\":\r\n",
      "      - |-\r\n",
      "        python\r\n",
      "      - |-\r\n",
      "        -c\r\n",
      "      \"image\": |-\r\n",
      "        python:3.6.8\r\n",
      "    \"inputs\":\r\n",
      "      \"parameters\":\r\n",
      "      - \"name\": |-\r\n",
      "          calculate-sum-2-data\r\n",
      "      - \"name\": |-\r\n",
      "          calculate-sum-data\r\n",
      "    \"name\": |-\r\n",
      "      calculate-sum-3\r\n",
      "    \"outputs\":\r\n",
      "      \"artifacts\":\r\n",
      "      - \"name\": |-\r\n",
      "          calculate-sum-3-data\r\n",
      "        \"path\": |-\r\n",
      "          /tmp/results.txt\r\n",
      "      \"parameters\":\r\n",
      "      - \"name\": |-\r\n",
      "          calculate-sum-3-data\r\n",
      "        \"valueFrom\":\r\n",
      "          \"path\": |-\r\n",
      "            /tmp/results.txt\r\n",
      "  - \"container\":\r\n",
      "      \"args\":\r\n",
      "      - |-\r\n",
      "        echo \"Result: {{inputs.parameters.calculate-sum-3-data}}\"\r\n",
      "      \"command\":\r\n",
      "      - |-\r\n",
      "        sh\r\n",
      "      - |-\r\n",
      "        -c\r\n",
      "      \"image\": |-\r\n",
      "        library/bash:4.4.23\r\n",
      "    \"inputs\":\r\n",
      "      \"parameters\":\r\n",
      "      - \"name\": |-\r\n",
      "          calculate-sum-3-data\r\n",
      "    \"name\": |-\r\n",
      "      echo\r\n"
     ]
    }
   ],
   "source": [
    "!cat pipeline.yaml"
   ]
  },
  {
   "cell_type": "code",
   "execution_count": null,
   "metadata": {},
   "outputs": [],
   "source": []
  }
 ],
 "metadata": {
  "kernelspec": {
   "display_name": "Python 3",
   "language": "python",
   "name": "python3"
  },
  "language_info": {
   "codemirror_mode": {
    "name": "ipython",
    "version": 3
   },
   "file_extension": ".py",
   "mimetype": "text/x-python",
   "name": "python",
   "nbconvert_exporter": "python",
   "pygments_lexer": "ipython3",
   "version": "3.6.9"
  }
 },
 "nbformat": 4,
 "nbformat_minor": 2
}
